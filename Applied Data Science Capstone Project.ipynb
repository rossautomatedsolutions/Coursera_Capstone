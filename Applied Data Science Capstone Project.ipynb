{
 "cells": [
  {
   "cell_type": "markdown",
   "metadata": {},
   "source": [
    "# Applied Data Science Capstone Project\n",
    "## Jeremy Ross"
   ]
  },
  {
   "cell_type": "markdown",
   "metadata": {},
   "source": [
    "## Introduction/Business Problem"
   ]
  },
  {
   "cell_type": "markdown",
   "metadata": {},
   "source": [
    "Where is the optimal place(s) to open up a Japense restaurant in New York City?\n",
    "NYC has many restaurants, so this exercise will identify where there are areas of opporunity for a Japense restaurant.\n",
    "Since it is possible, that there are multiple good areas to open up a Japenese restaurant, this exercise will demonstrate the\n",
    "advantegages of each area.\n",
    "To guide this exercise we will try to find the most ideal locations closest to the center of New York City"
   ]
  },
  {
   "cell_type": "markdown",
   "metadata": {},
   "source": [
    "## Data To Be Used"
   ]
  },
  {
   "cell_type": "markdown",
   "metadata": {},
   "source": [
    "The key datapoints that are needed for this exercise are\n",
    "- Number of any restaurant in each neighborhood. We will also need to figure out the distance to the center of NYC.\n",
    "- Number of Japenese restuarants in each neighbord. We will also need to figure out the distance to the center of NYC.\n",
    "\n",
    "The sources of the data will include\n",
    "-Foursaure API - this will be leveraged to figure out count of restaurnts, types of restrauants, and distance for each neighborhood\n",
    "-List of Zip Codes in NYC\n",
    "\n",
    "I will also need to pull in the coordinates of the center of NYC too.\n",
    "\n"
   ]
  },
  {
   "cell_type": "code",
   "execution_count": null,
   "metadata": {},
   "outputs": [],
   "source": []
  }
 ],
 "metadata": {
  "kernelspec": {
   "display_name": "Python 3",
   "language": "python",
   "name": "python3"
  },
  "language_info": {
   "codemirror_mode": {
    "name": "ipython",
    "version": 3
   },
   "file_extension": ".py",
   "mimetype": "text/x-python",
   "name": "python",
   "nbconvert_exporter": "python",
   "pygments_lexer": "ipython3",
   "version": "3.7.3"
  }
 },
 "nbformat": 4,
 "nbformat_minor": 4
}
